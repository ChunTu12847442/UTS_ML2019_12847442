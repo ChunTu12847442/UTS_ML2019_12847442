{
  "nbformat": 4,
  "nbformat_minor": 0,
  "metadata": {
    "colab": {
      "name": "assignment1.ipynb",
      "version": "0.3.2",
      "provenance": [],
      "include_colab_link": true
    },
    "kernelspec": {
      "name": "python3",
      "display_name": "Python 3"
    }
  },
  "cells": [
    {
      "cell_type": "markdown",
      "metadata": {
        "id": "view-in-github",
        "colab_type": "text"
      },
      "source": [
        "<a href=\"https://colab.research.google.com/github/ChunTu12847442/UTS_ML2019_12847442/blob/master/assignment1.ipynb\" target=\"_parent\"><img src=\"https://colab.research.google.com/assets/colab-badge.svg\" alt=\"Open In Colab\"/></a>"
      ]
    },
    {
      "cell_type": "code",
      "metadata": {
        "id": "uRSGuLu9h4Ad",
        "colab_type": "code",
        "colab": {}
      },
      "source": [
        ""
      ],
      "execution_count": 0,
      "outputs": []
    },
    {
      "cell_type": "markdown",
      "metadata": {
        "id": "M8R8sIcJh5-T",
        "colab_type": "text"
      },
      "source": [
        "Review Report on Eigenfaces vs. Fisherfaces: Recognition Using Class Specific Linear Projection\n",
        "Introduction\n",
        "I chose a paper called Eigenfaces vs. Fisherfaces: Recognition Using Class Specific Linear Projection. Because the face recognition is getting closer to our daily life. For example, my phone is Huawei mate 20 pro which use the face recognition to open the homepage. in this report, I will talk about the review of the paper.\n",
        "Content\n",
        "The research is about four method which are about solving the problem on face recognition. it mentioned that a new approach is good for solving the problem which is due to the lighting and facial expressions. The lighting is always the main factor affecting the success rate of face recognition, because the different lighting may change the facial expression. It means that a person may not considered to be the same person, in the face recognition system. And the lighting variability includes intensity, direction and light sources. To solve the change can lower the error rate of face recognition. This new method called ‘Fisherface’ has been proposed to solve the influencing factors in the lighting aspect.\n",
        "This paper illustrates and compares four method. In this section, I will focus on the drawbacks and problems of the three methods expect the Fishface method. Because the Fisherface is the innovative method for solving the lighting and facial expression problem of face recognition. About the correlation, because it needs to collect numerous images which are the for the change of illumination. The storage is a big problem. And it is expensive for developing VLSI hardware, due to save the computing time. About the Eigenfaces, it uses the principal components analysis (PCA) to pursue dimensionality reduction schemes. A drawback of this approach is that PCA contains the unwanted variations when maximizes total scatter has been chosen. About the linear subspaces, the price and storage are also the problem, even the error rate is lower than correlation and the Eigenfaces. It can be seen from the results of the article experiment. In the experiment, we can see that these three methods cannot solve the problem about the lighting and facial expressions. And the storage and computing time are also the problem in face recognition technology.\n",
        "Innovation\n",
        "Both of Eigenfaces and Fisherface are based on linearly projecting the image space to a low dimensional feature space (Belhumeur, Hespanha and Kriegman, 1997). however, they are different. The Eigenfaces use PCA. It means that this method is better for reconstruction from a low dimensional basis, but not useful in discrimination standpoint. The Fisherfaces mainly uses the idea of  Fisher’s Linear Discriminant (FLD).  The specific method is that using the original sample image is subjected to PCA dimensionality reduction firstly, and then using FLD for classification training. In other world, this algorithm firstly performs the PCA dimensionality reduction on the high-dimensional feature samples, projects it into the low-dimensional feature space, and then uses the FLD method to obtain the optimal discriminant vector. The Fisherfaces method learns a transformation matrix that is facing the label, so it doesn't as much focus on lighting as Eigenfaces and other methods.\n",
        "This paper focus on the problem which are lighting and facial expression. So, the Fisherface is better than other methods which is reflected in the experimental results. All three experiments results are the error rate of Fisherface is the lowest. It is worth mentioning that the Linear Subspace method also have low error rate. However, the storage requirement and computing time are three times than the Fisherface. So, the storage and tine is the also the innovation. In conclusion, the result is that the Fisherface method is still the best base on these experiments.\n",
        "This paper points out the Fisherface use two observations. The first one is to use a fixed angle of view, the images in different light are in a three-dimensional linear subspace of the high-dimensional image space. The second one is that Some areas of the face will mutate in different pictures, resulting in deviations in the results, so the first observation is not completely established.\n",
        "Technical quality\n",
        "This paper uses the Harvard Robotics Laboratory database and Yale database in three experiments to compare the error rates of the four methods. \n",
        "The first experiment is variation in lighting. It separates 330 images of five people to become five subsets. It contains the different longitudinal and latitudinal angles of light source direction which are 30 images of 15°, 45 images of 30°, 65 images of 45°, 85 images of 60°and 105 images of 75°. The subset 1 and 5 is training set and the others are texting set. The result is that even the error rate of linear subspace is lower than correlation and Eigenface, the fisherface is the best.\n",
        "The second experiment is variation in facial expression, eye wear and lighting. It uses sixteen people with 10 different images which are different facial expressions. The result is that the error rate of Fisherface method is the lowest.\n",
        "The last experiment is glasses recognition. It uses 36 images which have half glasses. And it only focuses on PCA and Fisherface. The result is the same other experience.\n",
        "The academic database means that the technical quality is efficient. However, these three experiences only focused on light and facial expressions. There are many factors to influence the face recognition technology, for example, variation in pose. And all images are in front of a simple background. In fact, in our daily life, the face recognition will use in different background. So, even the results show that the error rate of Fisherface method is the lowest. it cannot say that the Fisherface method is must be the best.\n",
        "Application and X-factor\n",
        "This paper recognized that the FLD/LDA is better than PCA. However, this result does not seem to be rigorous. In this part, I will show the different situation by the paper called PCA versus LDA, IEEE Transactions on Pattern Analysis and Machine Intelligence written by Martinez, A. and Kak, A. 2001.\n",
        "Martinez and Kak point out that people believe that LDA algorithms are superior to PCA algorithms in generally. However, it is not always the case. In this paper, they give experiment which use 21 different training and testing data sets and use the nearest-neighbor algorithm to show that PCA outperformed LDA. It means that When using a small training set, LDA is not necessarily better than PCA (Martinez and Kak, 2001).\n",
        "The choice of which algorithm to use for dimensionality reduction should be based on specific purposes and scenarios. If the purpose is to classify, then obviously the selection criteria for LDA are more reasonable. If the purpose does not have category information (unsupervised), we can only choose PCA. The criteria for choosing the direction of projection are not the same, to consider which one is more suitable for our needs.\n",
        "Presentation\n",
        "The overall structure is clear which means that it is easy to read. It has four main part. The first part is introduction which is about the background and the challenge. The second part is about for method for face recognition in different lighting and facial expression. The next part is about the experimental results. The last part is conclusion. The paper could have been more attractive if the authors had provided the present more valid evidence. Another paper which I choose shoes that the result, the fisherface method is the better than other methods, is not always the true.\n",
        "References\n",
        "Belhumeur, P., Hespanha, J. and Kriegman, D. 1997, Eigenfaces vs. Fisherfaces: recognition using class specific linear projection, IEEE Transactions on Pattern Analysis and Machine Intelligence, vol 19, no 7, pp.711-720.\n",
        "Martinez, A. and Kak, A. 2001, PCA versus LDA, IEEE Transactions on Pattern Analysis and Machine Intelligence, vol 23, no 2, pp.228-233.\n"
      ]
    }
  ]
}